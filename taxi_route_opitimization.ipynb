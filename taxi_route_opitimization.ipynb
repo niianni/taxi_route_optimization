{
 "cells": [
  {
   "cell_type": "markdown",
   "id": "806ef75e-0551-4d96-912d-b44a6aa5ca20",
   "metadata": {},
   "source": [
    "In the quest for efficiency and effectiveness in urban transportation, finding the optimal routes to take passengers from their initial locations to their desired destinations is paramount. This challenge is not just about reducing travel time; it's about enhancing the overall experience for both drivers and passengers, ensuring safety, and minimizing environmental impact. \n",
    "\n",
    "You have been asked to revolutionize the way taxis navigate the urban landscape, ensuring passengers reach their destinations swiftly, safely, and satisfactorily. As an initial step, your goal is to build a reinforcement learning agent that solves this problem within a simulated environment.\n",
    "\n",
    "## The Taxi-v3 environment\n",
    "The Taxi-v3 environment is a strategic simulation, offering a grid-based arena where a taxi navigates to address daily challenges akin to those faced by a taxi driver. This environment is defined by a 5x5 grid where the taxi's mission involves picking up a passenger from one of four specific locations (marked as Red, Green, Yellow, and Blue) and dropping them off at another designated spot. The goal is to accomplish this with minimal time on the road to maximize rewards, emphasizing the need for route optimization and efficient decision-making for passenger pickup and dropoff.\n",
    "\n",
    "### Key Components:\n",
    "- **Action Space:** Comprises six actions where 0 moves the taxi south, 1 north, 2 east, 3 west, 4 picks up a passenger, and 5 drops off a passenger.\n",
    "- **Observation Space:** Comprises 500 discrete states, accounting for 25 taxi positions, 5 potential passenger locations, and 4 destinations. \n",
    "- **Rewards System:** Includes a penalty of -1 for each step taken without other rewards, +20 for successful passenger delivery, and -10 for illegal pickup or dropoff actions. Actions resulting in no operation, like hitting a wall, also incur a time step penalty.\n",
    "\n",
    "![Taxi-v3 environment snapshot](Taxi_snap.png)\n"
   ]
  },
  {
   "cell_type": "code",
   "execution_count": null,
   "id": "f59944f1-c11a-48e7-a1aa-10ede08e0ccf",
   "metadata": {
    "collapsed": true,
    "executionCancelledAt": null,
    "executionTime": 20,
    "jupyter": {
     "outputs_hidden": true,
     "source_hidden": false
    },
    "lastExecutedAt": 1750238005929,
    "lastExecutedByKernel": "38d8f14b-c20a-44a6-a210-beb605e4a145",
    "lastScheduledRunId": null,
    "lastSuccessfullyExecutedCode": "# Re-run this cell to install and import the necessary libraries and load the required variables\nimport numpy as np\nimport gymnasium as gym\nimport imageio\nfrom IPython.display import Image\nfrom gymnasium.utils import seeding\n\n# Initialize the Taxi-v3 environment\nenv = gym.make(\"Taxi-v3\", render_mode='rgb_array')\n\n# Seed the environment for reproducibility\nenv.np_random, _ = seeding.np_random(42)\nenv.action_space.seed(42)\nnp.random.seed(42)\n\n# Maximum number of actions per training episode\nmax_actions = 100\nnum_episodes = 2000\nalpha = 0.1\ngamma = 1\n\nnum_states, num_actions = env.observation_space.n, env.action_space.n\nQ = np.zeros((num_states, num_actions))\n\nepisode_returns = []",
    "outputsMetadata": {
     "0": {
      "height": 537,
      "type": "stream"
     }
    }
   },
   "outputs": [],
   "source": [
    "import numpy as np\n",
    "import gymnasium as gym\n",
    "import imageio\n",
    "from IPython.display import Image\n",
    "from gymnasium.utils import seeding\n",
    "\n",
    "# Initialize the Taxi-v3 environment\n",
    "env = gym.make(\"Taxi-v3\", render_mode='rgb_array')\n",
    "\n",
    "# Seed the environment for reproducibility\n",
    "env.np_random, _ = seeding.np_random(42)\n",
    "env.action_space.seed(42)\n",
    "np.random.seed(42)\n",
    "\n",
    "# Maximum number of actions per training episode\n",
    "max_actions = 100\n",
    "num_episodes = 2000\n",
    "alpha = 0.1\n",
    "gamma = 1\n",
    "epsilon = 0.7\n",
    "\n",
    "num_states, num_actions = env.observation_space.n, env.action_space.n\n",
    "q_table = np.zeros((num_states, num_actions))\n",
    "\n",
    "episode_returns = []"
   ]
  },
  {
   "cell_type": "code",
   "execution_count": null,
   "id": "bbc86a7b-9bf9-4ec5-bc88-4098a70e392e",
   "metadata": {
    "executionCancelledAt": null,
    "executionTime": 4761,
    "lastExecutedAt": 1750238098431,
    "lastExecutedByKernel": "38d8f14b-c20a-44a6-a210-beb605e4a145",
    "lastScheduledRunId": null,
    "lastSuccessfullyExecutedCode": "def update_q_table(state, action, reward, new_state):\n    old_value = Q[state, action]\n    next_max = max(Q[new_state])\n    Q[state, action] = (1 - alpha) * old_value + alpha * (reward + gamma * next_max)\n'''\ndef compute_q_values(state, action, V):\n    if state == terminal_state:\n        return None\n    _, next_state, reward, _ = env.P[state][action][0]\n    return reward + gamma * V[next_state]\n\ndef get_max_action_and_value(state, V):\n    Q_values = [compute_q_value(state, action, V) for action in range(num_actions)]\n    max_action = max(range(num_actions), key=lambda a :Q_values[a])\n    max_q_value = Q_values[max_action]\n    return max_action, max_q_value\n'''\n\nfor episode in range(num_episodes):\n    state, info = env.reset()\n    terminated = False\n    episode_reward = 0\n    i = 0\n    while not terminated and i < max_actions:\n        action = env.action_space.sample()\n        new_state, reward, terminated, truncated, info = env.step(action)\n        update_q_table(state, action, reward, new_state)\n        episode_reward += reward\n        state = new_state\n        i += 1\n    episode_returns.append(episode_reward)\n\nprint(Q)\n",
    "outputsMetadata": {
     "0": {
      "height": 290,
      "type": "stream"
     }
    }
   },
   "outputs": [
    {
     "name": "stdout",
     "output_type": "stream",
     "text": [
      "[[  0.           0.           0.           0.           0.\n",
      "    0.        ]\n",
      " [ -7.45049025  -6.43142359  -7.44715431  -6.4281101   -5.38108764\n",
      "  -15.44699201]\n",
      " [ -2.0692502   -0.73718849  -2.58522781  -0.66659936   1.34515624\n",
      "   -9.64532018]\n",
      " ...\n",
      " [ -0.38125836   1.7737254   -0.47751953  -1.20967678  -9.50640622\n",
      "   -9.45458984]\n",
      " [ -5.92730484  -4.68262586  -5.92689554  -4.74006417 -14.99160636\n",
      "  -14.99261174]\n",
      " [  5.84852634   3.58195933   5.60560983  13.96245916  -2.02520169\n",
      "   -1.75888895]]\n"
     ]
    }
   ],
   "source": [
    "# Function to update Q-table when learning\n",
    "def update_q_table(state, action, reward, new_state):\n",
    "    old_value = q_table[state, action]\n",
    "    next_max = max(q_table[new_state])\n",
    "    q_table[state, action] = (1 - alpha) * old_value + alpha * (reward + gamma * next_max)\n",
    "\n",
    "# Function to select whether choose action randomly or not\n",
    "def epsilon_greedy(state):\n",
    "    if np.random.rand() < epsilon:\n",
    "        return env.action_space.sample()\n",
    "    else:\n",
    "        return np.argmax(q_table[state,:])\n",
    "\n",
    "# Training model loop\n",
    "for episode in range(num_episodes):\n",
    "    state, info = env.reset()\n",
    "    terminated = False\n",
    "    episode_reward = 0\n",
    "    i = 0\n",
    "    while not terminated and i < max_actions:\n",
    "        action = epsilon_greedy(state)\n",
    "        new_state, reward, terminated, truncated, info = env.step(action)\n",
    "        update_q_table(state, action, reward, new_state)\n",
    "        episode_reward += reward\n",
    "        state = new_state\n",
    "        i += 1\n",
    "    episode_returns.append(episode_reward)\n",
    "\n",
    "print(episode_returns)\n",
    "print(q_table)"
   ]
  },
  {
   "cell_type": "code",
   "execution_count": null,
   "id": "d4e83d57",
   "metadata": {},
   "outputs": [],
   "source": [
    "# Save the best policy\n",
    "policy = {state:np.argmax(q_table[state]) for state in range(num_states)}\n",
    "print(policy)"
   ]
  },
  {
   "cell_type": "code",
   "execution_count": null,
   "id": "9be7a2dd",
   "metadata": {},
   "outputs": [],
   "source": [
    "# Test the environment\n",
    "env.reset(seed=42)\n",
    "done = False\n",
    "episode_total_reward = 0\n",
    "x = 1\n",
    "frames = []\n",
    "\n",
    "while not done:\n",
    "    action = policy[state]  # optimal action from policy\n",
    "    frames.append(env.render())\n",
    "    step_result = env.step(action)\n",
    "    if len(step_result) == 5:\n",
    "        next_state, reward, done, truncated, info = step_result\n",
    "    else:\n",
    "        next_state, reward, done, info = step_result\n",
    "    state = next_state\n",
    "    episode_total_reward += reward\n",
    "    print(f\"Step {x}\")\n",
    "    x += 1\n",
    "\n",
    "print(f\"Total episode reward is: {episode_total_reward}\")"
   ]
  },
  {
   "cell_type": "code",
   "execution_count": null,
   "id": "93ad05af-2e0f-4ada-b368-fabb0715bb30",
   "metadata": {
    "executionCancelledAt": null,
    "executionTime": 51,
    "lastExecutedAt": 1750238011136,
    "lastExecutedByKernel": "38d8f14b-c20a-44a6-a210-beb605e4a145",
    "lastScheduledRunId": null,
    "lastSuccessfullyExecutedCode": "# Once you are done, run this cell to visualize the agent's behavior through the episode\n# Save frames as a GIF\n#imageio.mimsave('taxi_agent_behavior.gif', frames, fps=5, loop=0)\n\n# Display GIF\n#gif_path = \"taxi_agent_behavior.gif\" \n#Image(gif_path) "
   },
   "outputs": [],
   "source": [
    "# Once you are done, run this cell to visualize the agent's behavior through the episode\n",
    "# Save frames as a GIF\n",
    "imageio.mimsave('taxi_agent_behavior.gif', frames, fps=5, loop=0)\n",
    "\n",
    "# Display GIF\n",
    "gif_path = \"taxi_agent_behavior.gif\" \n",
    "Image(gif_path) "
   ]
  }
 ],
 "metadata": {
  "editor": "DataLab",
  "kernelspec": {
   "display_name": "Python 3 (ipykernel)",
   "language": "python",
   "name": "python3"
  },
  "language_info": {
   "codemirror_mode": {
    "name": "ipython",
    "version": 3
   },
   "file_extension": ".py",
   "mimetype": "text/x-python",
   "name": "python",
   "nbconvert_exporter": "python",
   "pygments_lexer": "ipython3",
   "version": "3.10.12"
  }
 },
 "nbformat": 4,
 "nbformat_minor": 5
}
